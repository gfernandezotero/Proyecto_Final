{
 "cells": [
  {
   "cell_type": "markdown",
   "metadata": {},
   "source": [
    "#Librerías utilizadas"
   ]
  },
  {
   "cell_type": "code",
   "execution_count": 1,
   "metadata": {},
   "outputs": [],
   "source": [
    "import pandas as pd\n",
    "import numpy as np\n",
    "import sqlite3\n",
    "import dtale"
   ]
  },
  {
   "cell_type": "code",
   "execution_count": 6,
   "metadata": {},
   "outputs": [],
   "source": [
    "conn = sqlite3.connect('accidentes_usa.db')\n",
    "cursor_obj = conn.cursor()\n",
    "df = pd.read_sql_query(\"SELECT * FROM acc_usa_bal\", conn)\n",
    "\n",
    "# Cerrar la conexión\n",
    "conn.close()\n"
   ]
  },
  {
   "cell_type": "code",
   "execution_count": 7,
   "metadata": {},
   "outputs": [
    {
     "data": {
      "text/plain": [
       "(81600, 16)"
      ]
     },
     "execution_count": 7,
     "metadata": {},
     "output_type": "execute_result"
    }
   ],
   "source": [
    "df.shape"
   ]
  },
  {
   "cell_type": "code",
   "execution_count": 8,
   "metadata": {},
   "outputs": [],
   "source": [
    "import dtale.global_state as global_state\n",
    "\n",
    "global_state.set_chart_settings({'scatter_points': 100000, '3d_points': 100000})\n"
   ]
  },
  {
   "cell_type": "code",
   "execution_count": 9,
   "metadata": {},
   "outputs": [
    {
     "name": "stderr",
     "output_type": "stream",
     "text": [
      "c:\\Users\\gfern\\OneDrive\\Escritorio\\4GeeksAcademy\\Env_Eda_Dtale\\Lib\\site-packages\\dtale\\column_analysis.py:402: FutureWarning:\n",
      "\n",
      "pandas.value_counts is deprecated and will be removed in a future version. Use pd.Series(obj).value_counts() instead.\n",
      "\n",
      "c:\\Users\\gfern\\OneDrive\\Escritorio\\4GeeksAcademy\\Env_Eda_Dtale\\Lib\\site-packages\\dtale\\column_analysis.py:402: FutureWarning:\n",
      "\n",
      "pandas.value_counts is deprecated and will be removed in a future version. Use pd.Series(obj).value_counts() instead.\n",
      "\n"
     ]
    }
   ],
   "source": [
    "d = dtale.show(df)\n",
    "d.open_browser()"
   ]
  }
 ],
 "metadata": {
  "kernelspec": {
   "display_name": "EDA",
   "language": "python",
   "name": "python3"
  },
  "language_info": {
   "codemirror_mode": {
    "name": "ipython",
    "version": 3
   },
   "file_extension": ".py",
   "mimetype": "text/x-python",
   "name": "python",
   "nbconvert_exporter": "python",
   "pygments_lexer": "ipython3",
   "version": "3.12.3"
  }
 },
 "nbformat": 4,
 "nbformat_minor": 2
}
